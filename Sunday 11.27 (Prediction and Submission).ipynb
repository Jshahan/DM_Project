{
 "cells": [
  {
   "cell_type": "code",
   "execution_count": 1,
   "metadata": {
    "collapsed": true
   },
   "outputs": [],
   "source": [
    "import numpy as np\n",
    "import pandas as pd\n",
    "import pickle\n",
    "import csv\n",
    "import time as tm\n",
    "import sys\n",
    "import functools\n",
    "print = functools.partial(print, flush=True)"
   ]
  },
  {
   "cell_type": "code",
   "execution_count": 2,
   "metadata": {
    "collapsed": true
   },
   "outputs": [],
   "source": [
    "start_time = []\n",
    "def tic():\n",
    "    start_time.append(tm.time())\n",
    "\n",
    "def toc():\n",
    "    print(\"--- %s seconds ---\" % (tm.time() - start_time.pop()))"
   ]
  },
  {
   "cell_type": "code",
   "execution_count": 3,
   "metadata": {
    "collapsed": true
   },
   "outputs": [],
   "source": [
    "def safeDiv(dividend,divisor) :\n",
    "    return dividend/divisor if divisor != 0 else 0\n",
    "\n",
    "no_data = 0\n",
    "def probability(distribution, indices, default=-1) :\n",
    "    if len(indices) == 1 :\n",
    "        if (isinstance(distribution,dict) and indices[0] not in distribution) or \\\n",
    "        (distribution is None) or \\\n",
    "        (distribution[indices[0]] == 0 and distribution[0] == 0) :\n",
    "            global no_data\n",
    "            no_data += 1\n",
    "            return default\n",
    "        else :\n",
    "            return safeDiv(distribution[indices[0]], distribution[0])\n",
    "    return probability(distribution[indices[0]],indices[1:], default)\n",
    "\n",
    "# def tallyUp(array, indices, weight=1, verbose=False) :\n",
    "#     if len(indices) == 1 :\n",
    "#         array[0] += weight\n",
    "#         if indices[0] != 0 :\n",
    "#             array[indices[0]] += weight\n",
    "#         if verbose :\n",
    "#             print(array)\n",
    "#     else :\n",
    "#         tallyUp(array[0], indices[1:], weight, verbose)\n",
    "#         if indices[0] != 0 :\n",
    "#             tallyUp(array[indices[0]], indices[1:], weight, verbose)\n",
    "\n"
   ]
  },
  {
   "cell_type": "code",
   "execution_count": 4,
   "metadata": {
    "collapsed": false
   },
   "outputs": [
    {
     "name": "stdout",
     "output_type": "stream",
     "text": [
      "Wall time: 1.72 s\n",
      "events_lookup       :    554,883,024 bytes\n",
      "Wall time: 8.19 s\n",
      "category_list       :    200,277,112 bytes\n",
      "Wall time: 10.6 s\n",
      "topic_list          :    200,277,112 bytes\n",
      "Wall time: 10.5 ms\n",
      "US_region_code      :         3,168 bytes\n",
      "Wall time: 5 ms\n",
      "CA_region_code      :           864 bytes\n",
      "Wall time: 5 ms\n",
      "top25_code          :         1,632 bytes\n",
      "Wall time: 11 ms\n",
      "top25               :           200 bytes\n",
      "Wall time: 15 ms\n",
      "advertisers_dict    :     2,292,396 bytes\n",
      "Wall time: 8.01 ms\n",
      "states              :           672 bytes\n",
      "Wall time: 7.01 ms\n",
      "provinces           :           232 bytes\n",
      "Wall time: 10 ms\n",
      "countries           :         2,392 bytes\n",
      "Wall time: 8.01 ms\n",
      "topics              :         2,400 bytes\n",
      "Wall time: 6 ms\n",
      "categories          :           776 bytes\n",
      "Wall time: 9.01 ms\n",
      "days                :           144 bytes\n",
      "Wall time: 6.01 ms\n",
      "advertisers         :        35,080 bytes\n",
      "Wall time: 15 ms\n",
      "campaigns           :     2,292,396 bytes\n",
      "--- 20.717214345932007 seconds ---\n"
     ]
    }
   ],
   "source": [
    "# Unpickle\n",
    "tic()\n",
    "prediction_and_print = ['events_lookup','category_list','topic_list','US_region_code','CA_region_code','top25_code','top25','advertisers_dict']+['states','provinces','countries']+['topics','categories','days','advertisers']+['campaigns']\n",
    "\n",
    "for each in prediction_and_print :\n",
    "    %time globals()[each] = pickle.load(open('bayes_model\\\\model_builder\\\\{}.p'.format(each),'rb'))\n",
    "    print('{:20s}:    {:10,d} bytes'.format(each,globals()[each].nbytes if isinstance(globals()[each],np.ndarray) else sys.getsizeof(globals()[each])))\n",
    "\n",
    "toc()"
   ]
  },
  {
   "cell_type": "code",
   "execution_count": 5,
   "metadata": {
    "collapsed": false
   },
   "outputs": [
    {
     "name": "stdout",
     "output_type": "stream",
     "text": [
      "Wall time: 0 ns\n",
      "loc                 :           576 bytes\n",
      "Wall time: 0 ns\n",
      "day                 :            96 bytes\n",
      "Wall time: 1 ms\n",
      "time                :         2,400 bytes\n",
      "Wall time: 0 ns\n",
      "plat                :         9,600 bytes\n",
      "Wall time: 352 ms\n",
      "cat                 :    90,316,800 bytes\n",
      "Wall time: 1 ms\n",
      "top                 :       707,952 bytes\n",
      "Wall time: 5.01 ms\n",
      "advsr               :     2,526,336 bytes\n",
      "Wall time: 882 ms\n",
      "advmt               :           112 bytes\n",
      "Wall time: 2.14 s\n",
      "camp                :           112 bytes\n",
      "Wall time: 0 ns\n",
      "--- 3.4841885566711426 seconds ---\n"
     ]
    }
   ],
   "source": [
    "tic()\n",
    "supplies = ['loc','day','time','plat','cat','top','advsr']+['advmt','camp']\n",
    "\n",
    "for each in supplies :\n",
    "    with open('bayes_model\\\\{}3.p'.format(each),'rb') as reader :\n",
    "        %time globals()[each] = pickle.load(reader)\n",
    "    print('{:20s}:    {:10,d} bytes'.format(each,globals()[each].nbytes if isinstance(globals()[each],np.ndarray) else sys.getsizeof(globals()[each])))\n",
    "\n",
    "with open('bayes_model\\\\clicks.p','rb') as reader :\n",
    "    %time clicks = pickle.load(reader)\n",
    "\n",
    "toc()"
   ]
  },
  {
   "cell_type": "code",
   "execution_count": 101,
   "metadata": {
    "collapsed": false
   },
   "outputs": [
    {
     "name": "stdout",
     "output_type": "stream",
     "text": [
      "Wall time: 7.66 s\n"
     ]
    },
    {
     "data": {
      "text/html": [
       "<div>\n",
       "<table border=\"1\" class=\"dataframe\">\n",
       "  <thead>\n",
       "    <tr style=\"text-align: right;\">\n",
       "      <th></th>\n",
       "      <th>display_id</th>\n",
       "      <th>ad_id</th>\n",
       "    </tr>\n",
       "  </thead>\n",
       "  <tbody>\n",
       "    <tr>\n",
       "      <th>0</th>\n",
       "      <td>16874594</td>\n",
       "      <td>66758</td>\n",
       "    </tr>\n",
       "    <tr>\n",
       "      <th>1</th>\n",
       "      <td>16874594</td>\n",
       "      <td>150083</td>\n",
       "    </tr>\n",
       "    <tr>\n",
       "      <th>2</th>\n",
       "      <td>16874594</td>\n",
       "      <td>162754</td>\n",
       "    </tr>\n",
       "    <tr>\n",
       "      <th>3</th>\n",
       "      <td>16874594</td>\n",
       "      <td>170392</td>\n",
       "    </tr>\n",
       "    <tr>\n",
       "      <th>4</th>\n",
       "      <td>16874594</td>\n",
       "      <td>172888</td>\n",
       "    </tr>\n",
       "    <tr>\n",
       "      <th>5</th>\n",
       "      <td>16874594</td>\n",
       "      <td>180797</td>\n",
       "    </tr>\n",
       "    <tr>\n",
       "      <th>6</th>\n",
       "      <td>16874595</td>\n",
       "      <td>8846</td>\n",
       "    </tr>\n",
       "  </tbody>\n",
       "</table>\n",
       "</div>"
      ],
      "text/plain": [
       "   display_id   ad_id\n",
       "0    16874594   66758\n",
       "1    16874594  150083\n",
       "2    16874594  162754\n",
       "3    16874594  170392\n",
       "4    16874594  172888\n",
       "5    16874594  180797\n",
       "6    16874595    8846"
      ]
     },
     "execution_count": 101,
     "metadata": {},
     "output_type": "execute_result"
    }
   ],
   "source": [
    "%time clicks_test = pd.read_csv('clicks_test/clicks_test.csv', dtype={'display_id':np.int,'ad_id':np.int}, na_filter=False)\n",
    "clicks_test.head(7)"
   ]
  },
  {
   "cell_type": "code",
   "execution_count": 102,
   "metadata": {
    "collapsed": true
   },
   "outputs": [],
   "source": [
    "display_id = clicks_test['display_id'].tolist()\n",
    "ad_id = clicks_test['ad_id'].tolist()\n",
    "\n",
    "%xdel clicks_test"
   ]
  },
  {
   "cell_type": "code",
   "execution_count": 103,
   "metadata": {
    "collapsed": false
   },
   "outputs": [
    {
     "name": "stdout",
     "output_type": "stream",
     "text": [
      "(66758, 0.050274104915412003)\t\tTime since start: 0.378 sec\n",
      "  0.0%   0e5    P(1|X)=0.050\n",
      "(127047, 0.43735406458245674)\t\tTime since start: 45.269 sec\n",
      "  1.0%   3e5    P(1|X)=0.437\n",
      "(261042, 0.048035081024430056)\t\tTime since start: 91.167 sec\n",
      "  2.0%   6e5    P(1|X)=0.048\n",
      "(288364, 0.045456236548844849)\t\tTime since start: 136.858 sec\n",
      "  3.0%   9e5    P(1|X)=0.045\n",
      "(362034, 0.25294640213606712)\t\tTime since start: 182.038 sec\n",
      "  4.0%  12e5    P(1|X)=0.253\n",
      "(184220, 0.41822973855726936)\t\tTime since start: 286.477 sec\n",
      "  5.0%  16e5    P(1|X)=0.418\n",
      "(206997, 0.21134890234769793)\t\tTime since start: 385.116 sec\n",
      "  6.0%  19e5    P(1|X)=0.211\n",
      "(37095, 0.066642437804955337)\t\tTime since start: 433.869 sec\n",
      "  7.0%  22e5    P(1|X)=0.067\n",
      "(378025, 0.20392030868040401)\t\tTime since start: 485.757 sec\n",
      "  8.0%  25e5    P(1|X)=0.204\n",
      "(173387, 0.092259109196715816)\t\tTime since start: 529.340 sec\n",
      "  9.0%  29e5    P(1|X)=0.092\n",
      "(132815, 0.22638335276464444)\t\tTime since start: 569.086 sec\n",
      " 10.0%  32e5    P(1|X)=0.226\n",
      "(209278, 0.21183855900230969)\t\tTime since start: 609.594 sec\n",
      " 11.0%  35e5    P(1|X)=0.212\n",
      "(330132, 0.15245312736968722)\t\tTime since start: 649.590 sec\n",
      " 12.0%  38e5    P(1|X)=0.152\n",
      "(377994, 0.22387958597800536)\t\tTime since start: 691.307 sec\n",
      " 13.0%  41e5    P(1|X)=0.224\n",
      "(164304, 0.23614955360220635)\t\tTime since start: 729.957 sec\n",
      " 14.0%  45e5    P(1|X)=0.236\n",
      "(366324, 0.19037333453326641)\t\tTime since start: 772.696 sec\n",
      " 15.0%  48e5    P(1|X)=0.190\n",
      "(27995, 0.25216136417409585)\t\tTime since start: 816.148 sec\n",
      " 16.0%  51e5    P(1|X)=0.252\n",
      "(94836, 0.053815302458175347)\t\tTime since start: 856.456 sec\n",
      " 17.0%  54e5    P(1|X)=0.054\n",
      "(276405, 0.16304461631176193)\t\tTime since start: 895.959 sec\n",
      " 18.0%  58e5    P(1|X)=0.163\n",
      "(123844, 0.18818539883464294)\t\tTime since start: 935.196 sec\n",
      " 19.0%  61e5    P(1|X)=0.188\n",
      "(43147, 0.35323134836729647)\t\tTime since start: 975.380 sec\n",
      " 20.0%  64e5    P(1|X)=0.353\n",
      "(145958, 0.13359058358439119)\t\tTime since start: 1017.123 sec\n",
      " 21.0%  67e5    P(1|X)=0.134\n",
      "(376198, 0.23011195434300799)\t\tTime since start: 1057.410 sec\n",
      " 22.0%  70e5    P(1|X)=0.230\n",
      "(162964, 0.20839602181288727)\t\tTime since start: 1098.043 sec\n",
      " 23.0%  74e5    P(1|X)=0.208\n",
      "(279807, 0.5000434531829645)\t\tTime since start: 1140.407 sec\n",
      " 24.0%  77e5    P(1|X)=0.500\n",
      "(120306, 0.25463001553854797)\t\tTime since start: 1183.954 sec\n",
      " 25.0%  80e5    P(1|X)=0.255\n",
      "(452245, 0.23552958422823256)\t\tTime since start: 1230.241 sec\n",
      " 26.0%  83e5    P(1|X)=0.236\n",
      "(402597, 0.40195038317374465)\t\tTime since start: 1278.147 sec\n",
      " 27.0%  87e5    P(1|X)=0.402\n",
      "(192649, 0.59412599325737336)\t\tTime since start: 1324.396 sec\n",
      " 28.0%  90e5    P(1|X)=0.594\n",
      "(188022, 0.10394325837893716)\t\tTime since start: 1370.702 sec\n",
      " 29.0%  93e5    P(1|X)=0.104\n",
      "(143877, 0.38384890511568814)\t\tTime since start: 1414.763 sec\n",
      " 30.0%  96e5    P(1|X)=0.384\n",
      "(129490, 0.15368489488898579)\t\tTime since start: 1459.062 sec\n",
      " 31.0%  99e5    P(1|X)=0.154\n",
      "(499524, 0.23617578775761047)\t\tTime since start: 1502.604 sec\n",
      " 32.0% 103e5    P(1|X)=0.236\n",
      "(150635, 0.20780747695234811)\t\tTime since start: 1547.511 sec\n",
      " 33.0% 106e5    P(1|X)=0.208\n",
      "(155631, 0.30723078584954866)\t\tTime since start: 1591.877 sec\n",
      " 34.0% 109e5    P(1|X)=0.307\n",
      "(2220, 0.054540867574136835)\t\tTime since start: 1635.201 sec\n",
      " 35.0% 112e5    P(1|X)=0.055\n",
      "(487648, 0.11299324471923312)\t\tTime since start: 1679.314 sec\n",
      " 36.0% 116e5    P(1|X)=0.113\n",
      "(173006, 0.074331117954366283)\t\tTime since start: 1723.615 sec\n",
      " 37.0% 119e5    P(1|X)=0.074\n",
      "(28347, 0.1903384384423322)\t\tTime since start: 1774.125 sec\n",
      " 38.0% 122e5    P(1|X)=0.190\n",
      "(183566, 0.38546467950741076)\t\tTime since start: 1817.410 sec\n",
      " 39.0% 125e5    P(1|X)=0.385\n",
      "(50621, 0.15374388070773706)\t\tTime since start: 1860.643 sec\n",
      " 40.0% 128e5    P(1|X)=0.154\n",
      "(496977, 0.24908176980786853)\t\tTime since start: 1905.454 sec\n",
      " 41.0% 132e5    P(1|X)=0.249\n",
      "(46271, 0.17509093228219413)\t\tTime since start: 1950.685 sec\n",
      " 42.0% 135e5    P(1|X)=0.175\n",
      "(64077, 0.10298128046492855)\t\tTime since start: 1996.758 sec\n",
      " 43.0% 138e5    P(1|X)=0.103\n",
      "(288399, 0.068809306746295762)\t\tTime since start: 2042.642 sec\n",
      " 44.0% 141e5    P(1|X)=0.069\n",
      "(85396, 0.061345427455386424)\t\tTime since start: 2087.767 sec\n",
      " 45.0% 145e5    P(1|X)=0.061\n",
      "(220735, 0.086553230210666104)\t\tTime since start: 2133.464 sec\n",
      " 46.0% 148e5    P(1|X)=0.087\n",
      "(468069, 0.34496738265128946)\t\tTime since start: 2178.881 sec\n",
      " 47.0% 151e5    P(1|X)=0.345\n",
      "(468636, 0.059060158373754092)\t\tTime since start: 2220.851 sec\n",
      " 48.0% 154e5    P(1|X)=0.059\n",
      "(286036, 0.22513252792283051)\t\tTime since start: 2262.242 sec\n",
      " 49.0% 157e5    P(1|X)=0.225\n",
      "(84109, 0.47788518218471232)\t\tTime since start: 2303.035 sec\n",
      " 50.0% 161e5    P(1|X)=0.478\n",
      "(143080, 0.070337609334702789)\t\tTime since start: 2345.076 sec\n",
      " 51.0% 164e5    P(1|X)=0.070\n",
      "(326074, 0.13303099530402795)\t\tTime since start: 2386.414 sec\n",
      " 52.0% 167e5    P(1|X)=0.133\n",
      "(3319, 0.23277278730982445)\t\tTime since start: 2428.628 sec\n",
      " 53.0% 170e5    P(1|X)=0.233\n",
      "(104858, 0.31512926309660244)\t\tTime since start: 2475.268 sec\n",
      " 54.0% 174e5    P(1|X)=0.315\n",
      "(407004, 0.29429351767673578)\t\tTime since start: 2517.368 sec\n",
      " 55.0% 177e5    P(1|X)=0.294\n",
      "(202991, 0.57713041728771175)\t\tTime since start: 2557.674 sec\n",
      " 56.0% 180e5    P(1|X)=0.577\n",
      "(84811, 0.073987812440381315)\t\tTime since start: 2597.053 sec\n",
      " 57.0% 183e5    P(1|X)=0.074\n",
      "(366687, 0.12135207069262123)\t\tTime since start: 2651.718 sec\n",
      " 58.0% 186e5    P(1|X)=0.121\n",
      "(50547, 0.36538819380488352)\t\tTime since start: 2691.138 sec\n",
      " 59.0% 190e5    P(1|X)=0.365\n",
      "(470788, 0.047456805239652268)\t\tTime since start: 2732.279 sec\n",
      " 60.0% 193e5    P(1|X)=0.047\n",
      "(470788, 0.045400739449788514)\t\tTime since start: 2774.190 sec\n",
      " 61.0% 196e5    P(1|X)=0.045\n",
      "(238141, 0.44203666633578698)\t\tTime since start: 2814.305 sec\n",
      " 62.0% 199e5    P(1|X)=0.442\n",
      "(208729, 0.020877584949903695)\t\tTime since start: 2854.652 sec\n",
      " 63.0% 203e5    P(1|X)=0.021\n",
      "(194667, 0.2121378449468673)\t\tTime since start: 2894.707 sec\n",
      " 64.0% 206e5    P(1|X)=0.212\n",
      "(240174, 0.27038734208947995)\t\tTime since start: 2935.333 sec\n",
      " 65.0% 209e5    P(1|X)=0.270\n",
      "(104595, 0.092503484198664748)\t\tTime since start: 2976.432 sec\n",
      " 66.0% 212e5    P(1|X)=0.093\n",
      "(377721, 0.1828611036661438)\t\tTime since start: 3019.008 sec\n",
      " 67.0% 215e5    P(1|X)=0.183\n",
      "(553996, 0.32908266256390317)\t\tTime since start: 3062.981 sec\n",
      " 68.0% 219e5    P(1|X)=0.329\n",
      "(428073, 0.34192232092267233)\t\tTime since start: 3104.376 sec\n",
      " 69.0% 222e5    P(1|X)=0.342\n",
      "(147290, 0.21983657490221023)\t\tTime since start: 3145.223 sec\n",
      " 70.0% 225e5    P(1|X)=0.220\n",
      "(250587, 0.4697994932571436)\t\tTime since start: 3187.040 sec\n",
      " 71.0% 228e5    P(1|X)=0.470\n",
      "(142603, 0.14805631281166684)\t\tTime since start: 3227.877 sec\n",
      " 72.0% 232e5    P(1|X)=0.148\n",
      "(84937, 0.086607592090125085)\t\tTime since start: 3268.474 sec\n",
      " 73.0% 235e5    P(1|X)=0.087\n",
      "(145159, 0.062936457561931794)\t\tTime since start: 3308.726 sec\n",
      " 74.0% 238e5    P(1|X)=0.063\n",
      "(190567, 0.25229932127496418)\t\tTime since start: 3349.881 sec\n",
      " 75.0% 241e5    P(1|X)=0.252\n",
      "(134615, 0.26106041238843725)\t\tTime since start: 3389.222 sec\n",
      " 76.0% 244e5    P(1|X)=0.261\n",
      "(515853, 0.15832493313672369)\t\tTime since start: 3428.120 sec\n",
      " 77.0% 248e5    P(1|X)=0.158\n",
      "(550729, 0.80572597456068928)\t\tTime since start: 3466.799 sec\n",
      " 78.0% 251e5    P(1|X)=0.806\n",
      "(282555, 0.30716737076336093)\t\tTime since start: 3510.647 sec\n",
      " 79.0% 254e5    P(1|X)=0.307\n",
      "(255585, 0.064963279542815291)\t\tTime since start: 3549.949 sec\n",
      " 80.0% 257e5    P(1|X)=0.065\n",
      "(211049, 0.13228338607767604)\t\tTime since start: 3588.601 sec\n",
      " 81.0% 261e5    P(1|X)=0.132\n",
      "(362274, 0.21863878861322594)\t\tTime since start: 3626.993 sec\n",
      " 82.0% 264e5    P(1|X)=0.219\n",
      "(68227, 0.31726429573907855)\t\tTime since start: 3665.316 sec\n",
      " 83.0% 267e5    P(1|X)=0.317\n",
      "(208121, 0.37597215968144759)\t\tTime since start: 3703.997 sec\n",
      " 84.0% 270e5    P(1|X)=0.376\n",
      "(33291, 0.16771256084824337)\t\tTime since start: 3742.090 sec\n",
      " 85.0% 273e5    P(1|X)=0.168\n",
      "(209985, 0.056968160299418959)\t\tTime since start: 3781.467 sec\n",
      " 86.0% 277e5    P(1|X)=0.057\n",
      "(518334, 0.14125855789972633)\t\tTime since start: 3824.253 sec\n",
      " 87.0% 280e5    P(1|X)=0.141\n",
      "(332249, 0.003105671754024633)\t\tTime since start: 3868.105 sec\n",
      " 88.0% 283e5    P(1|X)=0.003\n",
      "(57969, 0.28862174177979755)\t\tTime since start: 3908.620 sec\n",
      " 89.0% 286e5    P(1|X)=0.289\n",
      "(167055, 0.37912517525979511)\t\tTime since start: 3948.656 sec\n",
      " 90.0% 290e5    P(1|X)=0.379\n",
      "(147290, 0.15820521913583627)\t\tTime since start: 3991.492 sec\n",
      " 91.0% 293e5    P(1|X)=0.158\n",
      "(190760, 0.37660531940674674)\t\tTime since start: 4034.426 sec\n",
      " 92.0% 296e5    P(1|X)=0.377\n",
      "(470780, 0.080347944714994415)\t\tTime since start: 4077.904 sec\n",
      " 93.0% 299e5    P(1|X)=0.080\n",
      "(303691, 0.12783943858211227)\t\tTime since start: 4120.173 sec\n",
      " 94.0% 302e5    P(1|X)=0.128\n",
      "(363960, 0.018240516586186948)\t\tTime since start: 4163.981 sec\n",
      " 95.0% 306e5    P(1|X)=0.018\n",
      "(565599, 0.1238419329684171)\t\tTime since start: 4206.582 sec\n",
      " 96.0% 309e5    P(1|X)=0.124\n",
      "(250319, 0.50756408000463815)\t\tTime since start: 4252.455 sec\n",
      " 97.0% 312e5    P(1|X)=0.508\n",
      "(200805, 0.11331600174764056)\t\tTime since start: 4296.491 sec\n",
      " 98.0% 315e5    P(1|X)=0.113\n",
      "(70879, 0.074523023077171915)\t\tTime since start: 4339.841 sec\n",
      " 99.0% 319e5    P(1|X)=0.075\n",
      "(439461, 0.28496086316905089)\t\tTime since start: 4382.062 sec\n",
      "100.0% 322e5    P(1|X)=0.285\n",
      "--- 4382.082573413849 seconds ---\n"
     ]
    }
   ],
   "source": [
    "# predictions\n",
    "tic()\n",
    "t0 = tm.time()\n",
    "# document_id, platform, state, country, hour, weekday, category_pairs, topic_pairs\n",
    "# US_region_code, CA_region_code, top25_code, top25, advertisers_dict\n",
    "# probability, safeDiv\n",
    "# display_id, ad_id, clicked\n",
    "# loc, day, time, plat, cat, top, advsr\n",
    "# topics, categories, days\n",
    "\n",
    "predictions = []\n",
    "\n",
    "# Track how much missing data\n",
    "no_data = 0\n",
    "no_cat = 0\n",
    "no_top = 0\n",
    "default = 1#probability(clicks, [1+1])\n",
    "\n",
    "mean_topic_1 = [np.mean([probability(top, \n",
    "                                     [1+1,1+category,1+topic],default=default)  # remember that probability() defaults negative\n",
    "                         for topic in range(len(topics))])\n",
    "                for category in range(len(categories))]\n",
    "mean_topic_0 = [np.mean([probability(top, \n",
    "                                     [1+0,1+category,1+topic],default=default)  # remember that probability() defaults negative\n",
    "                         for topic in range(len(topics))])\n",
    "                for category in range(len(categories))]\n",
    "mean_topic = [np.mean([probability(top, \n",
    "                                   [0,1+category,1+topic],default=default)\n",
    "                       for topic in range(len(topics))])\n",
    "              for category in range(len(categories))]\n",
    "\n",
    "display = display_id[0]\n",
    "offset = display_id[0]\n",
    "previous = -1\n",
    "\n",
    "location = 0\n",
    "\n",
    "index = 0\n",
    "\n",
    "def get_cat_top_probability(click,location,weekday,hour,platform,category_pairs,topic_pairs) :\n",
    "    global no_cat, no_top, default\n",
    "    exit = []\n",
    "    flags = 0\n",
    "    cat_top_probability = 0\n",
    "    if category_pairs is not None : # have a category label\n",
    "        cat_prob = 0\n",
    "        cat_base = 0\n",
    "        for category, confidence in category_pairs :\n",
    "            inc = confidence * safeDiv(probability(cat, [1+click,1+location,1+weekday,1+hour,1+platform-1,1+category]),\n",
    "                                       probability(cat, [0,1+location,1+weekday,1+hour,1+platform-1,1+category]))\n",
    "            if inc < 0 :\n",
    "                inc = 1#confidence * default\n",
    "                flags += 1\n",
    "            \n",
    "            cat_prob = inc\n",
    "\n",
    "            if topic_pairs is not None : # have a topic label\n",
    "                top_prob = 0\n",
    "                top_base = 0\n",
    "                for topic, tconfidence in topic_pairs :\n",
    "                    inc = tconfidence * safeDiv(probability(top, [1+click,1+category,1+topic]),\n",
    "                                                probability(top, [0,1+category,1+topic]))  # this was previously always 1... lol\n",
    "\n",
    "                    if inc < 0 :\n",
    "                        inc = 0#tconfidence * default\n",
    "                        flags += 1\n",
    "                    \n",
    "                    top_prob += inc\n",
    "                    \n",
    "                    top_base += tconfidence\n",
    "\n",
    "                top_prob = safeDiv(top_prob, top_base)\n",
    "                cat_top_probability += cat_prob * top_prob\n",
    "                cat_base += confidence\n",
    "                exit.append(1)\n",
    "\n",
    "            else : # no topic label, default to average topic probability\n",
    "                no_top += 2828649/5481475 # weighted for repetitons\n",
    "                cat_top_probability += cat_prob * safeDiv(mean_topic_1[category] if click == 1 else mean_topic_0[category],\n",
    "                                                          mean_topic[category])\n",
    "                cat_base += confidence\n",
    "                exit.append(2)\n",
    "\n",
    "        cat_top_probability = safeDiv(cat_top_probability, cat_base)\n",
    "\n",
    "    else : #no category label, default to average category probability\n",
    "        no_cat += 1\n",
    "        cat_prob = safeDiv(np.mean([probability(cat,\n",
    "                                                [1+click,1+location,1+weekday,1+hour,1+platform-1,1+c],default=default)\n",
    "                                    for c in range(len(categories))]),\n",
    "                           np.mean([probability(cat, \n",
    "                                                [0,1+location,1+weekday,1+hour,1+platform-1,1+c],default=default) \n",
    "                                    for c in range(len(categories))]))\n",
    "\n",
    "        if cat_prob < 0 :\n",
    "            cat_prob = 1#default\n",
    "            flags += 1\n",
    "\n",
    "        if topic_pairs is not None : # have a topic label\n",
    "            top_prob = 0\n",
    "            top_base = 0\n",
    "            for topic, tconfidence in topic_pairs :\n",
    "                inc = tconfidence * safeDiv(probability(top, [1+click,0,1+topic]),\n",
    "                                            probability(top, [0,0,1+topic])) # this was previously always 1... lol\n",
    "\n",
    "                if inc < 0 :\n",
    "                    inc = 1#tconfidence * default\n",
    "                    flags += 1\n",
    "\n",
    "                top_prob += inc\n",
    "                \n",
    "                top_base += tconfidence\n",
    "\n",
    "            top_prob = safeDiv(top_prob, top_base)\n",
    "            cat_top_probability += cat_prob * top_prob\n",
    "            exit.append(3)\n",
    "\n",
    "        else : # no topic label, default to some number\n",
    "            no_top += 1 # no repetitons\n",
    "            cat_top_probability += cat_prob * default\n",
    "            exit.append(4)\n",
    "    \n",
    "    return (flags, cat_top_probability, exit)\n",
    "\n",
    "def joint(click=-1,location=-1,weekday=-1,hour=-1,platform=-1,category=-1,topic=-1,advertiser=-1,campaign=-1,advertisement=-1) :\n",
    "    global clicks, loc, day, time, plat, cat, top, advsr, camp, advmt, default\n",
    "    result = 1\n",
    "    if click != -1 :\n",
    "        result *= probability(clicks, [1+click])\n",
    "    if location != -1 :\n",
    "        result *= probability(loc, [1+click,1+location], default=default)\n",
    "    if weekday != -1 :\n",
    "        result *= probability(day, [1+click,1+weekday], default=default)\n",
    "    if hour != -1 :\n",
    "        result *= probability(time, [1+click,1+weekday,1+hour], default=default)\n",
    "    if platform != -1 :\n",
    "        result *= probability(plat, [1+click,1+weekday,1+hour,1+platform-1], default=default)\n",
    "    if category != -1 :\n",
    "        result *= probability(cat, [1+click,1+location,1+weekday,1+hour,1+platform-1,1+category], default=default)\n",
    "    if topic != -1 :\n",
    "        result *= probability(top, [1+click,1+category,1+topic],default=default)\n",
    "    if advertiser != -1 :\n",
    "        result *= probability(advsr, [1+click,1+location,1+advertiser],default=default)\n",
    "    if campaign != -1 :\n",
    "        result *= probability(camp, [1+click,1+location,1+advertiser,campaign],default=default) # Tricky! campaign was indexed inconsistently in training.. sigh\n",
    "    if advertisement != -1 :\n",
    "        result *= probability(advmt, [1+click,1+campaign,1+advertisement],default=default) # campaign is indexed conventionally again here.. should retrain with better indices..\n",
    "    \n",
    "    return result\n",
    "\n",
    "\n",
    "for display, ad in zip(display_id,ad_id) :\n",
    "    \n",
    "    # Do this once per new display_id group\n",
    "    if previous != display :\n",
    "        \n",
    "        document, platform, state, country, hour, weekday, category_pairs, topic_pairs = [events_lookup[0][display - offset],\n",
    "                                                                                          events_lookup[1][display - offset],\n",
    "                                                                                          events_lookup[2][display - offset],\n",
    "                                                                                          events_lookup[3][display - offset],\n",
    "                                                                                          events_lookup[4][display - offset],\n",
    "                                                                                          events_lookup[5][display - offset],\n",
    "                                                                                          category_list[display - offset],\n",
    "                                                                                          topic_list[display - offset]\n",
    "                                                                                         ]\n",
    "        \n",
    "        if country == 237 :\n",
    "            if state != -1 :\n",
    "                location = 25+US_region_code[state]\n",
    "            else :\n",
    "                location = 25+14 # default to Northeast US\n",
    "        elif country == 41 :\n",
    "            if state != -1 :\n",
    "                location = 25+19+CA_region_code[state]\n",
    "            else :\n",
    "                location = 25+19+1 # default to Southeast CA\n",
    "        else :\n",
    "            if country in top25 :\n",
    "                location = top25_code[country]\n",
    "            else :\n",
    "                location = 25+14 # default to Northeast US\n",
    "        \n",
    "        cat_top_1 = get_cat_top_probability(1,location,weekday,hour,platform,category_pairs,topic_pairs)\n",
    "        cat_top_2 = get_cat_top_probability(0,location,weekday,hour,platform,category_pairs,topic_pairs)\n",
    "        \n",
    "        N1 = (loc[1+1][1+location] \n",
    "              + day[1+1][1+weekday]\n",
    "              + time[1+1][1+weekday][1+hour]\n",
    "              + plat[1+1][1+weekday][1+hour][1+platform-1]\n",
    "              #+ cat[1+1][1+location][1+weekday][1+hour][1+platform-1][0]\n",
    "              #+ top[1+1][1+category][0]\n",
    "             )\n",
    "        N2 = (loc[1+0][1+location] \n",
    "              + day[1+0][1+weekday]\n",
    "              + time[1+0][1+weekday][1+hour]\n",
    "              + plat[1+0][1+weekday][1+hour][1+platform-1]\n",
    "              #+ cat[1+0][1+location][1+weekday][1+hour][1+platform-1][0]\n",
    "              #+ top[1+0][1+category][0]\n",
    "             )\n",
    "\n",
    "        p1 = safeDiv(cat_top_1[1]*joint(1,location,weekday,hour,platform),joint(-1,location,weekday,hour,platform))\n",
    "        p2 = safeDiv(cat_top_2[1]*joint(0,location,weekday,hour,platform),joint(-1,location,weekday,hour,platform))\n",
    "        P = (p1, p2)\n",
    "        \n",
    "        previous = display\n",
    "        predictions.append([])\n",
    "    \n",
    "    # Do this every iteration\n",
    "    adv = advertisers_dict[ad]\n",
    "    campaign = campaigns[ad]\n",
    "    \n",
    "    flags = [cat_top_1[0], cat_top_2[0]]\n",
    "    denom = (probability(advsr, [0,1+location,1+adv], default=default)\n",
    "             *probability(camp, [0,1+location,1+adv,campaign], default=default)\n",
    "             *probability(advmt, [0,1+campaign,ad], default=default))\n",
    "    \n",
    "    p1 = probability(advsr, [1+1,1+location,1+adv])\n",
    "    p2 = probability(camp, [1+1,1+location,1+adv,campaign])\n",
    "    p3 = probability(advmt, [1+1,1+campaign,ad])\n",
    "             \n",
    "    if p1 == -1 :\n",
    "        p1 = probability(advsr, [0,1+location,1+adv], default=default)\n",
    "        flags[0] += 1\n",
    "    if p2 == -1 :\n",
    "        p2 = probability(camp, [0,1+location,1+adv,campaign], default=default)\n",
    "        flags[0] += 1\n",
    "    if p3 == -1 :\n",
    "        p3 = probability(advmt, [0,1+campaign,ad], default=default)\n",
    "        flags[0] += 1\n",
    "    \n",
    "    cp1 = probability(advsr, [1+0,1+location,1+adv])\n",
    "    cp2 = probability(camp, [1+0,1+location,1+adv,campaign])\n",
    "    cp3 = probability(advmt, [1+0,1+campaign,ad])\n",
    "    \n",
    "    if cp1 == -1 :\n",
    "        cp1 = probability(advsr, [0,1+location,1+adv], default=default)   # Forgot to standardize to these to [0-1] after leaving out the default to detect error above!\n",
    "        flags[1] += 1\n",
    "    if cp2 == -1 :\n",
    "        cp2 = probability(camp, [0,1+location,1+adv,campaign], default=default)\n",
    "        flags[1] += 1\n",
    "    if cp3 == -1 :\n",
    "        cp3 = probability(advmt, [0,1+campaign,ad], default=default)\n",
    "        flags[1] += 1\n",
    "    \n",
    "    \n",
    "    #flags[0] = -99\n",
    "    if flags[0] < flags[1] :\n",
    "        _P = safeDiv(P[0]*p1*p2*p3,denom)\n",
    "    elif flags[0] > flags[1] :\n",
    "        _P = 1 - safeDiv(P[1]*cp1*cp2*cp3,denom)   # Almost forgot the \"1 - \" part! Also the \"c\" in front of p1,p2,p3!\n",
    "    else :\n",
    "        _N1 = N1\n",
    "        try :\n",
    "            _N1 += advsr[1+1][1+location][1+adv]\n",
    "        except TypeError :\n",
    "            pass\n",
    "        except KeyError :\n",
    "            pass\n",
    "        try :\n",
    "            _N1 += camp[1+1][1+location][1+adv][campaign]\n",
    "        except TypeError :\n",
    "            pass\n",
    "        except KeyError :\n",
    "            pass\n",
    "        try :\n",
    "            _N1 += advmt[1+1][1+campaign][ad]\n",
    "        except TypeError :\n",
    "            pass\n",
    "        except KeyError :\n",
    "            pass\n",
    "        \n",
    "        _N2 = N2\n",
    "        try :\n",
    "            _N2 += advsr[1+0][1+location][1+adv]\n",
    "        except TypeError :\n",
    "            pass\n",
    "        except KeyError :\n",
    "            pass\n",
    "        try :\n",
    "            _N2 += camp[1+0][1+location][1+adv][campaign]\n",
    "        except TypeError :\n",
    "            pass\n",
    "        except KeyError :\n",
    "            pass\n",
    "        try :\n",
    "            _N2 += advmt[1+0][1+campaign][ad]\n",
    "        except TypeError :\n",
    "            pass\n",
    "        except KeyError :\n",
    "            pass\n",
    "\n",
    "        _P = _N1*safeDiv(P[0]*p1*p2*p3, denom) + _N2*(1 - safeDiv(P[1]*cp1*cp2*cp3, denom))  # parenthesis around \"(1-...)\" matter!\n",
    "        _P /= (_N1 + _N2)\n",
    "    \n",
    "#     #assert cat_top_2[1]-1.048965666850497 < .00000001 and\n",
    "#     assert True or index in {168,198,199,203,233} or _P >= 0 and _P <= 1, '\\n'.join(['{}: Probability out of bounds (<0 or >1)'.format(index),\n",
    "#                                          'P \\t\\t= {:.6f}'.format(_P),\n",
    "#                                          'P[0] \\t\\t= {:.6f}'.format(P[0]),\n",
    "#                                          'P[0]*p1*p2*p3/denom \\t= {:.6f}'.format(safeDiv(P[0]*p1*p2*p3,denom)),\n",
    "#                                          '',\n",
    "#                                          'P[1] \\t\\t= {:.6f}'.format(P[1]),\n",
    "#                                          '1-P[1]*cp1*cp2*cp3/denom = {:.6f}'.format(1-safeDiv(P[1]*cp1*cp2*cp3,denom)),\n",
    "#                                          '',\n",
    "#                                          'denom \\t\\t= {:.15f}'.format(denom),\n",
    "#                                          'cat_top1: \\t({},{})'.format(cat_top_1[0],cat_top_1[1]),\n",
    "#                                          'cat_top2: \\t({},{})'.format(cat_top_2[0],cat_top_2[1]),\n",
    "#                                          'p1 = \\t\\t{:.6f}'.format(p1),\n",
    "#                                          'p2 = \\t\\t{:.6f}'.format(p2),\n",
    "#                                          'p3 = \\t\\t{:.6f}'.format(p3),\n",
    "#                                          'cp1 = \\t\\t{:.6f}'.format(cp1),\n",
    "#                                          'cp2 = \\t\\t{:.6f}'.format(cp2),\n",
    "#                                          'cp3 = \\t\\t{:.6f}'.format(cp3),\n",
    "#                                          '_N1 = \\t\\t{:d}'.format(_N1),\n",
    "#                                          '_N2 = \\t\\t{:d}'.format(_N2),\n",
    "#                                          'flags[0] = \\t\\t{:d}'.format(flags[0]),\n",
    "#                                          'flags[1] = \\t\\t{:d}'.format(flags[1]),\n",
    "#                                          ', '.join([str(i) for i in cat_top_1[2]]),\n",
    "#                                          ', '.join([str(i) for i in cat_top_2[2]])\n",
    "#                                         ])\n",
    "    \n",
    "    predictions[display - offset].append((ad,_P))\n",
    "\n",
    "    # Print progress\n",
    "    if index % int(len(display_id)/100) == 0 :\n",
    "        print(predictions[display-offset][-1],end='\\t\\t')\n",
    "        print('Time since start: {:.3f} sec'.format(tm.time()-t0))\n",
    "        print('{percent:5.1f}% {index:3d}e5    P({cond}|X)={p1:05.3f}'.format(\n",
    "                percent=index/len(display_id)*100,\n",
    "                index=int(index/100000),\n",
    "                p1=predictions[display-offset][-1][1],\n",
    "                cond=1\n",
    "            )\n",
    "        )\n",
    "        #if input('continue? (y/n)') == 'n' :\n",
    "        #    break\n",
    "\n",
    "    index += 1\n",
    "\n",
    "toc()"
   ]
  },
  {
   "cell_type": "code",
   "execution_count": 95,
   "metadata": {
    "collapsed": false
   },
   "outputs": [
    {
     "data": {
      "text/html": [
       "<div>\n",
       "<table border=\"1\" class=\"dataframe\">\n",
       "  <thead>\n",
       "    <tr style=\"text-align: right;\">\n",
       "      <th></th>\n",
       "      <th>display_id</th>\n",
       "      <th>ad_id</th>\n",
       "      <th>clicked</th>\n",
       "    </tr>\n",
       "  </thead>\n",
       "  <tbody>\n",
       "    <tr>\n",
       "      <th>0</th>\n",
       "      <td>475103</td>\n",
       "      <td>12845</td>\n",
       "      <td>0</td>\n",
       "    </tr>\n",
       "    <tr>\n",
       "      <th>1</th>\n",
       "      <td>475103</td>\n",
       "      <td>191468</td>\n",
       "      <td>0</td>\n",
       "    </tr>\n",
       "    <tr>\n",
       "      <th>2</th>\n",
       "      <td>475103</td>\n",
       "      <td>275253</td>\n",
       "      <td>1</td>\n",
       "    </tr>\n",
       "    <tr>\n",
       "      <th>3</th>\n",
       "      <td>475104</td>\n",
       "      <td>74987</td>\n",
       "      <td>0</td>\n",
       "    </tr>\n",
       "    <tr>\n",
       "      <th>4</th>\n",
       "      <td>475104</td>\n",
       "      <td>155839</td>\n",
       "      <td>0</td>\n",
       "    </tr>\n",
       "    <tr>\n",
       "      <th>5</th>\n",
       "      <td>475104</td>\n",
       "      <td>207649</td>\n",
       "      <td>1</td>\n",
       "    </tr>\n",
       "    <tr>\n",
       "      <th>6</th>\n",
       "      <td>475104</td>\n",
       "      <td>303479</td>\n",
       "      <td>0</td>\n",
       "    </tr>\n",
       "    <tr>\n",
       "      <th>7</th>\n",
       "      <td>475105</td>\n",
       "      <td>83251</td>\n",
       "      <td>0</td>\n",
       "    </tr>\n",
       "    <tr>\n",
       "      <th>8</th>\n",
       "      <td>475105</td>\n",
       "      <td>141393</td>\n",
       "      <td>0</td>\n",
       "    </tr>\n",
       "    <tr>\n",
       "      <th>9</th>\n",
       "      <td>475105</td>\n",
       "      <td>183230</td>\n",
       "      <td>1</td>\n",
       "    </tr>\n",
       "  </tbody>\n",
       "</table>\n",
       "</div>"
      ],
      "text/plain": [
       "   display_id   ad_id  clicked\n",
       "0      475103   12845        0\n",
       "1      475103  191468        0\n",
       "2      475103  275253        1\n",
       "3      475104   74987        0\n",
       "4      475104  155839        0\n",
       "5      475104  207649        1\n",
       "6      475104  303479        0\n",
       "7      475105   83251        0\n",
       "8      475105  141393        0\n",
       "9      475105  183230        1"
      ]
     },
     "execution_count": 95,
     "metadata": {},
     "output_type": "execute_result"
    }
   ],
   "source": [
    "clicks_train = pd.read_csv('clicks_train\\\\clicks_train.csv',dtype={'display_id':int,'ad_id':int,'clicked':int},nrows=1000000,skiprows=2435244,names=['display_id','ad_id','clicked'],na_filter=False)\n",
    "clicks_train.head(10)"
   ]
  },
  {
   "cell_type": "code",
   "execution_count": 90,
   "metadata": {
    "collapsed": false
   },
   "outputs": [
    {
     "data": {
      "text/html": [
       "<div>\n",
       "<table border=\"1\" class=\"dataframe\">\n",
       "  <thead>\n",
       "    <tr style=\"text-align: right;\">\n",
       "      <th></th>\n",
       "      <th>display_id</th>\n",
       "      <th>ad_id</th>\n",
       "      <th>clicked</th>\n",
       "    </tr>\n",
       "  </thead>\n",
       "  <tbody>\n",
       "    <tr>\n",
       "      <th>999990</th>\n",
       "      <td>665989</td>\n",
       "      <td>202311</td>\n",
       "      <td>1</td>\n",
       "    </tr>\n",
       "    <tr>\n",
       "      <th>999991</th>\n",
       "      <td>665989</td>\n",
       "      <td>331468</td>\n",
       "      <td>0</td>\n",
       "    </tr>\n",
       "    <tr>\n",
       "      <th>999992</th>\n",
       "      <td>665990</td>\n",
       "      <td>26711</td>\n",
       "      <td>0</td>\n",
       "    </tr>\n",
       "    <tr>\n",
       "      <th>999993</th>\n",
       "      <td>665990</td>\n",
       "      <td>129628</td>\n",
       "      <td>0</td>\n",
       "    </tr>\n",
       "    <tr>\n",
       "      <th>999994</th>\n",
       "      <td>665990</td>\n",
       "      <td>190062</td>\n",
       "      <td>1</td>\n",
       "    </tr>\n",
       "    <tr>\n",
       "      <th>999995</th>\n",
       "      <td>665990</td>\n",
       "      <td>266938</td>\n",
       "      <td>0</td>\n",
       "    </tr>\n",
       "    <tr>\n",
       "      <th>999996</th>\n",
       "      <td>665990</td>\n",
       "      <td>281764</td>\n",
       "      <td>0</td>\n",
       "    </tr>\n",
       "    <tr>\n",
       "      <th>999997</th>\n",
       "      <td>665990</td>\n",
       "      <td>288402</td>\n",
       "      <td>0</td>\n",
       "    </tr>\n",
       "    <tr>\n",
       "      <th>999998</th>\n",
       "      <td>665991</td>\n",
       "      <td>99763</td>\n",
       "      <td>0</td>\n",
       "    </tr>\n",
       "    <tr>\n",
       "      <th>999999</th>\n",
       "      <td>665991</td>\n",
       "      <td>141393</td>\n",
       "      <td>0</td>\n",
       "    </tr>\n",
       "  </tbody>\n",
       "</table>\n",
       "</div>"
      ],
      "text/plain": [
       "        display_id   ad_id  clicked\n",
       "999990      665989  202311        1\n",
       "999991      665989  331468        0\n",
       "999992      665990   26711        0\n",
       "999993      665990  129628        0\n",
       "999994      665990  190062        1\n",
       "999995      665990  266938        0\n",
       "999996      665990  281764        0\n",
       "999997      665990  288402        0\n",
       "999998      665991   99763        0\n",
       "999999      665991  141393        0"
      ]
     },
     "execution_count": 90,
     "metadata": {},
     "output_type": "execute_result"
    }
   ],
   "source": [
    "clicks_train.tail(10)"
   ]
  },
  {
   "cell_type": "code",
   "execution_count": 96,
   "metadata": {
    "collapsed": false
   },
   "outputs": [],
   "source": [
    "display_id = clicks_train.loc[3:999997,'display_id'].tolist()\n",
    "ad_id = clicks_train.loc[3:999997,'ad_id'].tolist()\n",
    "clicked = clicks_train.loc[3:999997,'clicked'].tolist()"
   ]
  },
  {
   "cell_type": "code",
   "execution_count": 92,
   "metadata": {
    "collapsed": true
   },
   "outputs": [],
   "source": [
    "%xdel clicks_train"
   ]
  },
  {
   "cell_type": "code",
   "execution_count": 98,
   "metadata": {
    "collapsed": false
   },
   "outputs": [
    {
     "name": "stdout",
     "output_type": "stream",
     "text": [
      "0 Score: 0.250000\n",
      "1908 Score: 0.333333\n",
      "3816 Score: 0.500000\n",
      "5724 Score: 1.000000\n",
      "7632 Score: 1.000000\n",
      "9540 Score: 1.000000\n",
      "11448 Score: 0.500000\n",
      "13356 Score: 1.000000\n",
      "15264 Score: 1.000000\n",
      "17172 Score: 0.200000\n",
      "19080 Score: 1.000000\n",
      "20988 Score: 0.333333\n",
      "22896 Score: 1.000000\n",
      "24804 Score: 1.000000\n",
      "26712 Score: 1.000000\n",
      "28620 Score: 1.000000\n",
      "30528 Score: 0.500000\n",
      "32436 Score: 0.333333\n",
      "34344 Score: 0.333333\n",
      "36252 Score: 0.500000\n",
      "38160 Score: 0.333333\n",
      "40068 Score: 1.000000\n",
      "41976 Score: 1.000000\n",
      "43884 Score: 0.333333\n",
      "45792 Score: 1.000000\n",
      "47700 Score: 1.000000\n",
      "49608 Score: 0.333333\n",
      "51516 Score: 1.000000\n",
      "53424 Score: 1.000000\n",
      "55332 Score: 1.000000\n",
      "57240 Score: 0.500000\n",
      "59148 Score: 0.333333\n",
      "61056 Score: 0.500000\n",
      "62964 Score: 1.000000\n",
      "64872 Score: 0.500000\n",
      "66780 Score: 0.333333\n",
      "68688 Score: 1.000000\n",
      "70596 Score: 1.000000\n",
      "72504 Score: 0.500000\n",
      "74412 Score: 0.250000\n",
      "76320 Score: 0.333333\n",
      "78228 Score: 0.333333\n",
      "80136 Score: 1.000000\n",
      "82044 Score: 0.333333\n",
      "83952 Score: 1.000000\n",
      "85860 Score: 0.333333\n",
      "87768 Score: 1.000000\n",
      "89676 Score: 1.000000\n",
      "91584 Score: 1.000000\n",
      "93492 Score: 1.000000\n",
      "95400 Score: 1.000000\n",
      "97308 Score: 0.333333\n",
      "99216 Score: 0.500000\n",
      "101124 Score: 0.333333\n",
      "103032 Score: 0.200000\n",
      "104940 Score: 0.250000\n",
      "106848 Score: 0.333333\n",
      "108756 Score: 1.000000\n",
      "110664 Score: 0.200000\n",
      "112572 Score: 0.250000\n",
      "114480 Score: 0.333333\n",
      "116388 Score: 0.500000\n",
      "118296 Score: 0.142857\n",
      "120204 Score: 0.250000\n",
      "122112 Score: 0.500000\n",
      "124020 Score: 1.000000\n",
      "125928 Score: 0.500000\n",
      "127836 Score: 1.000000\n",
      "129744 Score: 1.000000\n",
      "131652 Score: 1.000000\n",
      "133560 Score: 0.200000\n",
      "135468 Score: 0.333333\n",
      "137376 Score: 0.500000\n",
      "139284 Score: 0.500000\n",
      "141192 Score: 1.000000\n",
      "143100 Score: 0.333333\n",
      "145008 Score: 0.250000\n",
      "146916 Score: 0.333333\n",
      "148824 Score: 0.200000\n",
      "150732 Score: 0.250000\n",
      "152640 Score: 1.000000\n",
      "154548 Score: 1.000000\n",
      "156456 Score: 1.000000\n",
      "158364 Score: 0.500000\n",
      "160272 Score: 0.500000\n",
      "162180 Score: 0.500000\n",
      "164088 Score: 1.000000\n",
      "165996 Score: 1.000000\n",
      "167904 Score: 1.000000\n",
      "169812 Score: 0.500000\n",
      "171720 Score: 1.000000\n",
      "173628 Score: 0.500000\n",
      "175536 Score: 0.200000\n",
      "177444 Score: 0.500000\n",
      "179352 Score: 0.333333\n",
      "181260 Score: 1.000000\n",
      "183168 Score: 1.000000\n",
      "185076 Score: 1.000000\n",
      "186984 Score: 1.000000\n",
      "188892 Score: 1.000000\n",
      "190800 Score: 1.000000\n",
      "--- 1.5888805389404297 seconds ---\n",
      "Score: 0.637706\n"
     ]
    }
   ],
   "source": [
    "def score(row) :#, least_to_greatest=False) :\n",
    "    for i,(ad_id,probability,clicked) in enumerate(row) :\n",
    "        if clicked == 1 :\n",
    "            #if least_to_greatest :\n",
    "            #    return 1/(len(row)-i)\n",
    "            #else :\n",
    "            return 1/(i+1)\n",
    "\n",
    "tic()\n",
    "scores = np.zeros((len(predictions,)))\n",
    "\n",
    "for i,display_row in enumerate(predictions) :\n",
    "    display_row.sort(key=lambda x: x[1], reverse=True)\n",
    "    scores[i] = score(display_row)\n",
    "    #scores[i] = score(np.sort(np.array(display_row, dtype=[('ad',int),('prob',float),('clicked',int)]),order='prob'),\n",
    "    #                  least_to_greatest=True)\n",
    "    if i % int(len(predictions)/100) == 0 :\n",
    "        print('%d Score: %f' % (i, scores[i]))\n",
    "\n",
    "toc()\n",
    "print('Score: %f' % np.mean(scores))"
   ]
  },
  {
   "cell_type": "code",
   "execution_count": 99,
   "metadata": {
    "collapsed": false
   },
   "outputs": [
    {
     "data": {
      "text/plain": [
       "(61279, 22336, 12830.8856222097, 1)"
      ]
     },
     "execution_count": 99,
     "metadata": {},
     "output_type": "execute_result"
    }
   ],
   "source": [
    "no_data, no_cat, no_top, default"
   ]
  },
  {
   "cell_type": "code",
   "execution_count": 104,
   "metadata": {
    "collapsed": false
   },
   "outputs": [
    {
     "name": "stdout",
     "output_type": "stream",
     "text": [
      "--- 118.38253140449524 seconds ---\n"
     ]
    }
   ],
   "source": [
    "tic()\n",
    "with open('bayes_model\\\\predictions\\\\submission1.1_11.28.csv', 'w', newline='') as csvfile:\n",
    "    filewriter = csv.writer(csvfile, delimiter=' ',\n",
    "                            quotechar='|', quoting=csv.QUOTE_MINIMAL)\n",
    "    filewriter.writerow(['display_id,ad_id'])\n",
    "    for display, disp_group in zip(np.unique(display_id), predictions) :\n",
    "        disp_group.sort(key=lambda x: x[1], reverse=True)\n",
    "        filewriter.writerow(['{},{}'.format(display,disp_group[0][0])] + [ad for (ad,prob) in disp_group[1:]])\n",
    "\n",
    "toc()"
   ]
  },
  {
   "cell_type": "code",
   "execution_count": 16,
   "metadata": {
    "collapsed": false
   },
   "outputs": [
    {
     "ename": "AssertionError",
     "evalue": "Hi",
     "output_type": "error",
     "traceback": [
      "\u001b[1;31m---------------------------------------------------------------------------\u001b[0m",
      "\u001b[1;31mAssertionError\u001b[0m                            Traceback (most recent call last)",
      "\u001b[1;32m<ipython-input-16-99dbb4e012fb>\u001b[0m in \u001b[0;36m<module>\u001b[1;34m()\u001b[0m\n\u001b[1;32m----> 1\u001b[1;33m \u001b[1;32massert\u001b[0m \u001b[1;32mFalse\u001b[0m\u001b[1;33m,\u001b[0m \u001b[1;34m\"Hi\"\u001b[0m\u001b[1;33m\u001b[0m\u001b[0m\n\u001b[0m",
      "\u001b[1;31mAssertionError\u001b[0m: Hi"
     ]
    }
   ],
   "source": [
    "assert False, \"Hi\""
   ]
  },
  {
   "cell_type": "code",
   "execution_count": 108,
   "metadata": {
    "collapsed": false
   },
   "outputs": [
    {
     "data": {
      "text/plain": [
       "(538847, 32225162)"
      ]
     },
     "execution_count": 108,
     "metadata": {},
     "output_type": "execute_result"
    }
   ],
   "source": [
    "invalids = [1 if prob < 0 or prob > 1 else 0 for disp in predictions for (ad,prob) in disp]\n",
    "sum(invalids), len(display_id)"
   ]
  },
  {
   "cell_type": "code",
   "execution_count": null,
   "metadata": {
    "collapsed": true
   },
   "outputs": [],
   "source": [
    "(48e5,366324,.7565), (154e5, 468636,-2.005), (219e5,553996,-2.025), (251e5,550729, 0), (254e5,282555,20.160), (309e5, 565599,-2.211)"
   ]
  },
  {
   "cell_type": "code",
   "execution_count": 107,
   "metadata": {
    "collapsed": false
   },
   "outputs": [
    {
     "data": {
      "text/plain": [
       "0.0159751563079807"
      ]
     },
     "execution_count": 107,
     "metadata": {},
     "output_type": "execute_result"
    }
   ],
   "source": [
    "514802/ 32225162"
   ]
  },
  {
   "cell_type": "code",
   "execution_count": 109,
   "metadata": {
    "collapsed": false
   },
   "outputs": [
    {
     "data": {
      "text/plain": [
       "0.01672131237074929"
      ]
     },
     "execution_count": 109,
     "metadata": {},
     "output_type": "execute_result"
    }
   ],
   "source": [
    "538847 /  32225162"
   ]
  },
  {
   "cell_type": "code",
   "execution_count": 110,
   "metadata": {
    "collapsed": false
   },
   "outputs": [
    {
     "data": {
      "text/plain": [
       "(22361334, 577668, 656204.9213601394)"
      ]
     },
     "execution_count": 110,
     "metadata": {},
     "output_type": "execute_result"
    }
   ],
   "source": [
    "no_data, no_cat, no_top"
   ]
  },
  {
   "cell_type": "code",
   "execution_count": 13,
   "metadata": {
    "collapsed": false
   },
   "outputs": [
    {
     "data": {
      "text/plain": [
       "[91681, 139376, 141295, 232122]"
      ]
     },
     "execution_count": 13,
     "metadata": {},
     "output_type": "execute_result"
    }
   ],
   "source": [
    "ad_id[4800000-2:4800000+2]"
   ]
  },
  {
   "cell_type": "code",
   "execution_count": 14,
   "metadata": {
    "collapsed": false
   },
   "outputs": [
    {
     "data": {
      "text/plain": [
       "322251"
      ]
     },
     "execution_count": 14,
     "metadata": {},
     "output_type": "execute_result"
    }
   ],
   "source": [
    "int(len(display_id)/100)"
   ]
  },
  {
   "cell_type": "code",
   "execution_count": 15,
   "metadata": {
    "collapsed": false
   },
   "outputs": [
    {
     "data": {
      "text/plain": [
       "14.895221426776022"
      ]
     },
     "execution_count": 15,
     "metadata": {},
     "output_type": "execute_result"
    }
   ],
   "source": [
    "48e5/322251"
   ]
  },
  {
   "cell_type": "code",
   "execution_count": 16,
   "metadata": {
    "collapsed": false
   },
   "outputs": [
    {
     "data": {
      "text/plain": [
       "4833765"
      ]
     },
     "execution_count": 16,
     "metadata": {},
     "output_type": "execute_result"
    }
   ],
   "source": [
    "15*322251"
   ]
  },
  {
   "cell_type": "code",
   "execution_count": 17,
   "metadata": {
    "collapsed": false
   },
   "outputs": [
    {
     "data": {
      "text/plain": [
       "[150799, 187290, 366324, 413233]"
      ]
     },
     "execution_count": 17,
     "metadata": {},
     "output_type": "execute_result"
    }
   ],
   "source": [
    "ad_id[4833765-2:4833765+2]"
   ]
  },
  {
   "cell_type": "code",
   "execution_count": 19,
   "metadata": {
    "collapsed": false
   },
   "outputs": [
    {
     "data": {
      "text/plain": [
       "(17810617, 366324)"
      ]
     },
     "execution_count": 19,
     "metadata": {},
     "output_type": "execute_result"
    }
   ],
   "source": [
    "display_id[4833765], ad_id[4833765]"
   ]
  },
  {
   "cell_type": "code",
   "execution_count": 20,
   "metadata": {
    "collapsed": false
   },
   "outputs": [
    {
     "data": {
      "text/plain": [
       "[17810617, 17810617, 17810617, 17810617]"
      ]
     },
     "execution_count": 20,
     "metadata": {},
     "output_type": "execute_result"
    }
   ],
   "source": [
    "display_id[4833765-2:4833765+2]"
   ]
  },
  {
   "cell_type": "code",
   "execution_count": 21,
   "metadata": {
    "collapsed": true
   },
   "outputs": [],
   "source": [
    " document, platform, state, country, hour, weekday, category_pairs, topic_pairs = [events_lookup[0][display - offset],\n",
    "                                                                                          events_lookup[1][display - offset],\n",
    "                                                                                          events_lookup[2][display - offset],\n",
    "                                                                                          events_lookup[3][display - offset],\n",
    "                                                                                          events_lookup[4][display - offset],\n",
    "                                                                                          events_lookup[5][display - offset],\n",
    "                                                                                          category_list[display - offset],\n",
    "                                                                                          topic_list[display - offset]\n",
    "                                                                                         ]"
   ]
  },
  {
   "cell_type": "code",
   "execution_count": 22,
   "metadata": {
    "collapsed": false
   },
   "outputs": [
    {
     "data": {
      "text/plain": [
       "(1373663,\n",
       " 3,\n",
       " 9,\n",
       " 237,\n",
       " 17,\n",
       " 2,\n",
       " None,\n",
       " [(83, 0.0190337569453875),\n",
       "  (127, 0.0094897491308752503),\n",
       "  (192, 0.0090774146809802208),\n",
       "  (47, 0.0089925566234316297)])"
      ]
     },
     "execution_count": 22,
     "metadata": {},
     "output_type": "execute_result"
    }
   ],
   "source": [
    "document, platform, state, country, hour, weekday, category_pairs, topic_pairs"
   ]
  },
  {
   "cell_type": "code",
   "execution_count": 23,
   "metadata": {
    "collapsed": false
   },
   "outputs": [
    {
     "data": {
      "text/plain": [
       "26"
      ]
     },
     "execution_count": 23,
     "metadata": {},
     "output_type": "execute_result"
    }
   ],
   "source": []
  },
  {
   "cell_type": "code",
   "execution_count": 25,
   "metadata": {
    "collapsed": false
   },
   "outputs": [
    {
     "data": {
      "text/plain": [
       "(0, 1.0)"
      ]
     },
     "execution_count": 25,
     "metadata": {},
     "output_type": "execute_result"
    }
   ],
   "source": [
    "\n",
    "cat_top_1 = get_cat_top_probability(1,location,weekday,hour,platform)\n",
    "cat_top_1\n",
    "       "
   ]
  },
  {
   "cell_type": "code",
   "execution_count": null,
   "metadata": {
    "collapsed": true
   },
   "outputs": [],
   "source": []
  },
  {
   "cell_type": "code",
   "execution_count": null,
   "metadata": {
    "collapsed": true
   },
   "outputs": [],
   "source": [
    "cat_top_2 = get_cat_top_probability(0,location,weekday,hour,platform)"
   ]
  },
  {
   "cell_type": "code",
   "execution_count": null,
   "metadata": {
    "collapsed": true
   },
   "outputs": [],
   "source": []
  }
 ],
 "metadata": {
  "anaconda-cloud": {},
  "hide_input": false,
  "kernelspec": {
   "display_name": "Python [Root]",
   "language": "python",
   "name": "Python [Root]"
  },
  "language_info": {
   "codemirror_mode": {
    "name": "ipython",
    "version": 3
   },
   "file_extension": ".py",
   "mimetype": "text/x-python",
   "name": "python",
   "nbconvert_exporter": "python",
   "pygments_lexer": "ipython3",
   "version": "3.5.2"
  }
 },
 "nbformat": 4,
 "nbformat_minor": 0
}
